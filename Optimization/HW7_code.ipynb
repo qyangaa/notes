{
 "cells": [
  {
   "cell_type": "code",
   "execution_count": 2,
   "metadata": {},
   "outputs": [],
   "source": [
    "import numpy as np\n",
    "import matplotlib.pyplot as plt\n",
    "import scipy.linalg as la\n",
    "import random"
   ]
  },
  {
   "cell_type": "code",
   "execution_count": 11,
   "metadata": {},
   "outputs": [
    {
     "name": "stdout",
     "output_type": "stream",
     "text": [
      "[[12.75 12.   -2.  ]\n",
      " [12.   16.75  6.  ]\n",
      " [-2.    6.   11.75]]\n",
      "eigenvalues:  [2.76481495e+01+0.j 8.93881445e-03+0.j 1.35929116e+01+0.j]\n"
     ]
    }
   ],
   "source": [
    "M = 0.25\n",
    "Q = np.array([[13,12,-2],[12,17,6],[-2,6,12]])\n",
    "I = np.array([[1,0,0],[0,1,0],[0,0,1]])\n",
    "A = Q-M*I\n",
    "print(A)\n",
    "results = la.eig(A)\n",
    "print(\"eigenvalues: \",results[0])\n",
    "#print(\"eigenvectors: \\n\",results[1])\n"
   ]
  },
  {
   "cell_type": "code",
   "execution_count": 13,
   "metadata": {},
   "outputs": [
    {
     "name": "stdout",
     "output_type": "stream",
     "text": [
      "[[-15  12  -2]\n",
      " [ 12 -11   6]\n",
      " [ -2   6 -16]]\n",
      "eigenvalues:  [ -0.10185046+0.j -27.74106119+0.j -14.15708836+0.j]\n"
     ]
    }
   ],
   "source": [
    "M = 28\n",
    "Q = np.array([[13,12,-2],[12,17,6],[-2,6,12]])\n",
    "I = np.array([[1,0,0],[0,1,0],[0,0,1]])\n",
    "A = Q-M*I\n",
    "print(A)\n",
    "results = la.eig(A)\n",
    "print(\"eigenvalues: \",results[0])\n",
    "#print(\"eigenvectors: \\n\",results[1])"
   ]
  },
  {
   "cell_type": "code",
   "execution_count": 18,
   "metadata": {},
   "outputs": [
    {
     "data": {
      "text/plain": [
       "-23.885000000000005"
      ]
     },
     "execution_count": 18,
     "metadata": {},
     "output_type": "execute_result"
    }
   ],
   "source": [
    "q = np.array([-22,-14.5,13])\n",
    "xopt = -np.matmul(np.linalg. inv(Q),q)\n",
    "c=-1\n",
    "def f(x, Q, q,c):\n",
    "    res = 0.5*np.matmul(x.transpose(), np.matmul(Q,x))+np.matmul(q.transpose(),x)+c\n",
    "    return res\n",
    "fopt = f(xopt,Q,q,c)\n",
    "fopt"
   ]
  },
  {
   "cell_type": "code",
   "execution_count": 25,
   "metadata": {},
   "outputs": [],
   "source": [
    "def update(xk,Q,q,k,stepSize):\n",
    "    def grad(x):\n",
    "        return np.matmul(Q,x)+q\n",
    "    return xk - stepSize(k)*grad(xk)\n",
    "def stepSize(k,eta=1/28):\n",
    "    return eta"
   ]
  },
  {
   "cell_type": "code",
   "execution_count": 38,
   "metadata": {},
   "outputs": [],
   "source": [
    "def run():\n",
    "    n_steps = 30\n",
    "    xk = np.array([0,0,0])\n",
    "    fx1 = []\n",
    "    xk1 = np.copy(xk)\n",
    "    tList = list(range(n_steps))\n",
    "    for i in tList:\n",
    "        xk1 = update(xk1,Q,q,i+1,stepSize)\n",
    "        fx1.append(f(xk1, Q, q,c)-fopt)\n",
    "    plt.plot(tList,fx1)\n",
    "    plt.xlabel(\"t\")\n",
    "    plt.ylabel(\"f(x_t)-f(x*)\")\n",
    "    plt.legend([\"stepSize1\"])\n",
    "    plt.xlim([0,5])\n",
    "    return Q,q,xk\n"
   ]
  },
  {
   "cell_type": "code",
   "execution_count": 39,
   "metadata": {},
   "outputs": [
    {
     "data": {
      "image/png": "[encoded data removed]",
      "text/plain": [
       "<Figure size 432x288 with 1 Axes>"
      ]
     },
     "metadata": {
      "needs_background": "light"
     },
     "output_type": "display_data"
    }
   ],
   "source": [
    " Q,q,xk = run()"
   ]
  },
  {
   "cell_type": "code",
   "execution_count": 52,
   "metadata": {},
   "outputs": [],
   "source": [
    "def update2(xk,Q,q,k):\n",
    "    eta = 1\n",
    "    alpha = 0.4\n",
    "    beta = 0.5\n",
    "    def grad(x):\n",
    "        return np.matmul(Q,x)+q\n",
    "    d = grad(xk)\n",
    "    while f(xk-eta*d,Q,q,c)>f(xk,Q,q,c) - alpha*eta*np.matmul(d.transpose(),xk):\n",
    "        eta = eta*beta\n",
    "    \n",
    "    return xk - eta*grad(xk)\n",
    "def run2():\n",
    "    n_steps = 30\n",
    "    xk = np.array([0,0,0])\n",
    "    fx1 = []\n",
    "    xk1 = np.copy(xk)\n",
    "    tList = list(range(n_steps))\n",
    "    for i in tList:\n",
    "        xk1 = update2(xk1,Q,q,i+1)\n",
    "        fx1.append(f(xk1, Q, q,c)-fopt)\n",
    "    plt.plot(tList,fx1)\n",
    "    plt.xlabel(\"t\")\n",
    "    plt.ylabel(\"f(x_t)-f(x*)\")\n",
    "    plt.legend([\"stepSize2\"])\n",
    "    plt.xlim([0,5])\n",
    "    return Q,q,xk"
   ]
  },
  {
   "cell_type": "code",
   "execution_count": 53,
   "metadata": {},
   "outputs": [
    {
     "data": {
      "image/png": "[encoded data removed]",
      "text/plain": [
       "<Figure size 432x288 with 1 Axes>"
      ]
     },
     "metadata": {
      "needs_background": "light"
     },
     "output_type": "display_data"
    }
   ],
   "source": [
    " Q,q,xk = run2()"
   ]
  },
  {
   "cell_type": "code",
   "execution_count": 57,
   "metadata": {},
   "outputs": [
    {
     "data": {
      "text/plain": [
       "(array([[-2. ,  0. ],\n",
       "        [ 0. , -1.6]]),\n",
       " -2.4)"
      ]
     },
     "execution_count": 57,
     "metadata": {},
     "output_type": "execute_result"
    }
   ],
   "source": [
    "A = np.array([[-2,0],[0,-1]])\n",
    "B = np.array([[-2,0],[0,-4]])\n",
    "t = 0.8\n",
    "f = t*A+(1-t)*B\n",
    "x = t*(-2)+(1-t)*(-4)\n",
    "f,x"
   ]
  },
  {
   "cell_type": "code",
   "execution_count": 58,
   "metadata": {},
   "outputs": [
    {
     "data": {
      "text/plain": [
       "(array([[-2,  0],\n",
       "        [ 0, -1]]),\n",
       " array([[-2,  0],\n",
       "        [ 0, -4]]))"
      ]
     },
     "execution_count": 58,
     "metadata": {},
     "output_type": "execute_result"
    }
   ],
   "source": [
    "A, B"
   ]
  },
  {
   "cell_type": "code",
   "execution_count": null,
   "metadata": {},
   "outputs": [],
   "source": []
  }
 ],
 "metadata": {
  "kernelspec": {
   "display_name": "Python 3",
   "language": "python",
   "name": "python3"
  },
  "language_info": {
   "codemirror_mode": {
    "name": "ipython",
    "version": 3
   },
   "file_extension": ".py",
   "mimetype": "text/x-python",
   "name": "python",
   "nbconvert_exporter": "python",
   "pygments_lexer": "ipython3",
   "version": "3.7.6"
  },
  "toc": {
   "base_numbering": 1,
   "nav_menu": {},
   "number_sections": true,
   "sideBar": true,
   "skip_h1_title": false,
   "title_cell": "Table of Contents",
   "title_sidebar": "Contents",
   "toc_cell": false,
   "toc_position": {},
   "toc_section_display": true,
   "toc_window_display": false
  }
 },
 "nbformat": 4,
 "nbformat_minor": 4
}
