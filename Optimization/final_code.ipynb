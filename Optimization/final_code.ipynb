{
 "cells": [
  {
   "cell_type": "code",
   "execution_count": 177,
   "metadata": {},
   "outputs": [],
   "source": [
    "import numpy as np\n",
    "import matplotlib.pyplot as plt\n",
    "import scipy.linalg as la\n",
    "from scipy.misc import derivative\n",
    "from numdifftools import Gradient\n",
    "from sympy import symbols, solve\n",
    "from shapely.geometry import Point\n",
    "from shapely.geometry.polygon import Polygon"
   ]
  },
  {
   "cell_type": "markdown",
   "metadata": {
    "heading_collapsed": true
   },
   "source": [
    "# Linear Algebra"
   ]
  },
  {
   "cell_type": "code",
   "execution_count": 178,
   "metadata": {
    "hidden": true
   },
   "outputs": [],
   "source": [
    "# square root of matrix\n",
    "Q = np.array([[1,0.9],[0.9,1]])\n",
    "B = la.sqrtm(Q)"
   ]
  },
  {
   "cell_type": "markdown",
   "metadata": {
    "heading_collapsed": true
   },
   "source": [
    "# Calculate Eigenvalues and Eigen Vectors"
   ]
  },
  {
   "cell_type": "code",
   "execution_count": 121,
   "metadata": {
    "hidden": true,
    "scrolled": false
   },
   "outputs": [
    {
     "name": "stdout",
     "output_type": "stream",
     "text": [
      "[[1 2 3 4]\n",
      " [2 3 4 1]\n",
      " [3 4 1 2]\n",
      " [4 1 2 3]]\n",
      "lambda_0: 10.000\n",
      "v_0 [0.500 0.500 0.500 0.500]\n",
      "lambda_1: 2.828\n",
      "v_1 [0.271 -0.653 -0.271 0.653]\n",
      "lambda_2: -2.828\n",
      "v_2 [-0.653 -0.271 0.653 0.271]\n",
      "lambda_3: -2.000\n",
      "v_3 [-0.500 0.500 -0.500 0.500]\n",
      "\n",
      " M or L= 10.000\n",
      "m= -2.828\n"
     ]
    },
    {
     "name": "stderr",
     "output_type": "stream",
     "text": [
      "/home/arky/anaconda3/lib/python3.7/site-packages/ipykernel_launcher.py:9: ComplexWarning: Casting complex values to real discards the imaginary part\n",
      "  if __name__ == '__main__':\n",
      "/home/arky/anaconda3/lib/python3.7/site-packages/ipykernel_launcher.py:12: ComplexWarning: Casting complex values to real discards the imaginary part\n",
      "  if sys.path[0] == '':\n",
      "/home/arky/anaconda3/lib/python3.7/site-packages/ipykernel_launcher.py:13: ComplexWarning: Casting complex values to real discards the imaginary part\n",
      "  del sys.path[0]\n"
     ]
    }
   ],
   "source": [
    "np.set_printoptions(formatter={'float': lambda x: \"{0:0.3f}\".format(x)})\n",
    "    \n",
    "A = np.array([[1,2,3,4],[2,3,4,1],[3,4,1,2],[4,1,2,3]])\n",
    "print(A)\n",
    "results = la.eig(A)\n",
    "eigenvectors = np.transpose(results[1])\n",
    "\n",
    "for i,eigenvalue in enumerate(results[0]):\n",
    "    print(\"lambda_%d: %.3f\"%(i,eigenvalue))\n",
    "    print(\"v_%d\"%(i),eigenvectors[i])\n",
    "\n",
    "print(\"\\n M or L= %.3f\"%(max(results[0])))\n",
    "print(\"m= %.3f\"%(min(results[0])))\n",
    "\n",
    "# for i, eigenvector1 in enumerate(eigenvectors):\n",
    "#     for j, eigenvector2 in enumerate(eigenvectors[i+1:]):\n",
    "#         print(\"<v_%d, v_%d> = %.3f\"%(i, i+j+1,np.inner(eigenvector1,eigenvector2)))"
   ]
  },
  {
   "cell_type": "markdown",
   "metadata": {
    "heading_collapsed": true
   },
   "source": [
    "# Plot Feasible Region"
   ]
  },
  {
   "cell_type": "code",
   "execution_count": 3,
   "metadata": {
    "hidden": true
   },
   "outputs": [
    {
     "data": {
      "text/plain": [
       "Text(0.5, 0, '$x_1$')"
      ]
     },
     "execution_count": 3,
     "metadata": {},
     "output_type": "execute_result"
    },
    {
     "data": {
      "image/png": "[encoded data removed]",
      "text/plain": [
       "<Figure size 432x288 with 1 Axes>"
      ]
     },
     "metadata": {
      "needs_background": "light"
     },
     "output_type": "display_data"
    }
   ],
   "source": [
    "numPoints = 100\n",
    "x1Line = np.linspace(-0.5,6,numPoints)\n",
    "x2Line = np.linspace(-1.5,6,numPoints)\n",
    "x1, x2 = np.meshgrid(x1Line,x2Line)\n",
    "y1 = x1**2-2*x1+x2**2\n",
    "y2 = 0.5*x1**2-2*x1-x2+2\n",
    "y3 = x1-x2\n",
    "ax1 = plt.contour(x1,x2,y1,[0])\n",
    "ax2 = plt.contour(x1,x2,y2,[0])\n",
    "ax3 = plt.contour(x1,x2,y3,[0])\n",
    "y4 = np.maximum.reduce([y1,y2,y3])\n",
    "plt.contourf(x1,x2,y4,[-10,0])\n",
    "plt.ylabel(\"$x_2$\")\n",
    "plt.xlabel(\"$x_1$\")"
   ]
  },
  {
   "cell_type": "markdown",
   "metadata": {
    "heading_collapsed": true
   },
   "source": [
    "# KKT Test\n",
    "$\\min :\\left\\{x_{1}^{2}+x_{2}^{2}-2 x_{1}-4 x_{2}-9: x_{1}+x_{2} \\leq 2, \\frac{1}{3} x_{1}+x_{2} \\leq 1, x_{1}, x_{2} \\geq 0\\right\\}$"
   ]
  },
  {
   "cell_type": "code",
   "execution_count": 113,
   "metadata": {
    "hidden": true
   },
   "outputs": [],
   "source": [
    "\n",
    "# def df0(x):\n",
    "#     x1 = x[0]\n",
    "#     x2 = x[1]\n",
    "#     return 2*x1+2*x2-2-4\n",
    "\n",
    "def primalFeasible(x,fs):\n",
    "    for f in fs:\n",
    "        if f(x)>0: return False\n",
    "    if x[0]<0 or x[1]<0: return False\n",
    "    return True\n",
    "\n",
    "def nonZeroDual(x,fs):#complementarySlackness\n",
    "    dualVars = []\n",
    "    for f in (fs):\n",
    "        if f(x)!=0:\n",
    "            dualVars += [0]\n",
    "        else:\n",
    "            dualVars += [1]\n",
    "    return dualVars\n",
    "\n",
    "def stationarity(x, nonZeroDualsol,fs):\n",
    "    gradients = []    \n",
    "    for i in range(len(fs)):\n",
    "        if nonZeroDualsol[i]==0:\n",
    "            gradients+= [0]\n",
    "        else:\n",
    "            gradients+= [Gradient(fs[i])(x)]\n",
    "    l1 = symbols('l1')\n",
    "    l2 = symbols('l2')\n",
    "    l3 = symbols('l1')\n",
    "    l4 = symbols('l2')\n",
    "    expr = Gradient(f0)(x) + l1*gradients[0]+l2*gradients[1]\n",
    "    sol = solve(expr)\n",
    "    if len(sol)==0: return []\n",
    "    sol = np.array(list(sol.values()))\n",
    "    return sol*np.array(nonZeroDualsol)\n",
    "\n",
    "def dualFeasible(dualSol):\n",
    "    for i in dualSol:\n",
    "        if i<0:\n",
    "            return False\n",
    "    return True\n",
    "        \n",
    "    \n",
    "def KKT(x,fs):\n",
    "    if primalFeasible(x,fs)!=True:\n",
    "        print('x is not primal feasible')\n",
    "        return\n",
    "    nonZeroDualsol = nonZeroDual(x,fs)\n",
    "    print('Nonzero dual variables:', nonZeroDualsol)\n",
    "    dualsol = stationarity(x, nonZeroDualsol, fs)\n",
    "    if len(dualsol)>0:\n",
    "        print('Dual variables:', dualsol)\n",
    "        if dualFeasible(dualsol):\n",
    "            print('Dual solution feasible')\n",
    "        else:\n",
    "            print('Dual solutions not feasible')\n",
    "    else:\n",
    "        print('no dual solution')\n",
    "    "
   ]
  },
  {
   "cell_type": "code",
   "execution_count": 116,
   "metadata": {
    "hidden": true
   },
   "outputs": [
    {
     "name": "stdout",
     "output_type": "stream",
     "text": [
      "Nonzero dual variables: [1, 1]\n",
      "Dual variables: [-3.00000000000000 6.00000000000000]\n",
      "Dual solutions not feasible\n"
     ]
    }
   ],
   "source": [
    "def f0(x):\n",
    "    x1 = x[0]\n",
    "    x2 = x[1]\n",
    "    return x1**2+x2**2-2*x1-4*x2-9\n",
    "\n",
    "def f1(x):\n",
    "    x1 = x[0]\n",
    "    x2 = x[1]\n",
    "    return x1+x2-2\n",
    "\n",
    "def f2(x):\n",
    "    x1 = x[0]\n",
    "    x2 = x[1]\n",
    "    return x1/3+x2-1\n",
    "\n",
    "fs = (f1,f2)\n",
    "x = [3/2,1/2]\n",
    "KKT(x,fs)\n"
   ]
  },
  {
   "cell_type": "markdown",
   "metadata": {
    "heading_collapsed": true
   },
   "source": [
    "# Subgradient\n",
    "$f\\left(x_{1}, x_{2}\\right)=x_{1}^{2}-3 x_{1}+4\\left|x_{1}\\right|+2 x_{2}^{2}+x_{2}+2\\left|x_{2}\\right|-5 .$"
   ]
  },
  {
   "cell_type": "code",
   "execution_count": 173,
   "metadata": {
    "hidden": true
   },
   "outputs": [],
   "source": [
    "def inSubdifferential(x,f, subgrad):\n",
    "    x = (0,0)\n",
    "    e = 1e-3\n",
    "    extremes = []\n",
    "    for x1 in [x[0]+e, x[0]-e]:\n",
    "        for x2 in [x[1]+e, x[1]-e]:\n",
    "            extremes  += [Gradient(f)([x1,x2])]\n",
    "    coord = extremes \n",
    "    xs, ys = zip(*coord) #create lists of x and y values\n",
    "\n",
    "    plt.figure()\n",
    "    plt.scatter(xs,ys) \n",
    "    plt.scatter(*subgrad)\n",
    "    plt.show()\n",
    "    point = Point(*subgrad)\n",
    "    polygon = Polygon(extremes)\n",
    "    return polygon.contains(point)"
   ]
  },
  {
   "cell_type": "code",
   "execution_count": 174,
   "metadata": {
    "hidden": true,
    "scrolled": true
   },
   "outputs": [
    {
     "data": {
      "image/png": "[encoded data removed]",
      "text/plain": [
       "<Figure size 432x288 with 1 Axes>"
      ]
     },
     "metadata": {
      "needs_background": "light"
     },
     "output_type": "display_data"
    },
    {
     "data": {
      "text/plain": [
       "True"
      ]
     },
     "execution_count": 174,
     "metadata": {},
     "output_type": "execute_result"
    }
   ],
   "source": [
    "def f(x):\n",
    "    x1 = x[0]\n",
    "    x2 = x[1]\n",
    "    return x1**2 - 3*x1 + 4*abs(x1) + 2*x2**2 + x2 + 2*abs(x2)-5\n",
    "\n",
    "x = [0,0]\n",
    "subgrad = [0,0]\n",
    "\n",
    "inSubdifferential(x,f,subgrad)\n",
    "\n"
   ]
  },
  {
   "cell_type": "markdown",
   "metadata": {
    "heading_collapsed": true
   },
   "source": [
    "# Transformation"
   ]
  },
  {
   "cell_type": "code",
   "execution_count": 188,
   "metadata": {
    "hidden": true
   },
   "outputs": [
    {
     "data": {
      "image/png": "[encoded data removed]",
      "text/plain": [
       "<Figure size 432x288 with 1 Axes>"
      ]
     },
     "metadata": {
      "needs_background": "light"
     },
     "output_type": "display_data"
    }
   ],
   "source": [
    "numPoints = 100\n",
    "x1Line = np.linspace(-3.5,3.5,numPoints)\n",
    "x2Line = np.linspace(-3.5,3.5,numPoints)\n",
    "x1, x2 = np.meshgrid(x1Line,x2Line)\n",
    "xspace = np.dstack([x1,x2])\n",
    "def quadratic(Q,x):\n",
    "    return np.dot(x,np.matmul(Q,x))\n",
    "def y(f):\n",
    "    return np.array([[quadratic(Q,f(x)) for x in row] for row in xspace])\n",
    "Q = np.array([[1/9,0],[0,1]])\n",
    "y1 = y(lambda x: x)\n",
    "ax1 = plt.contourf(x1,x2,y1,[-10,1])\n",
    "plt.ylabel(\"$x_2$\")\n",
    "plt.xlabel(\"$x_1$\")\n",
    "plt.gca().set_aspect('equal', adjustable='box')"
   ]
  },
  {
   "cell_type": "code",
   "execution_count": 190,
   "metadata": {
    "hidden": true
   },
   "outputs": [
    {
     "data": {
      "image/png": "[encoded data removed]",
      "text/plain": [
       "<Figure size 432x288 with 1 Axes>"
      ]
     },
     "metadata": {
      "needs_background": "light"
     },
     "output_type": "display_data"
    }
   ],
   "source": [
    "def affineTransform(A,x):\n",
    "    return np.matmul(A,x)\n",
    "\n",
    "A = np.array([[3,0],[0,1]])\n",
    "Q = np.array([[1/9,0],[0,1]])\n",
    "y2 = y(lambda x: affineTransform(A,x))\n",
    "ax2 = plt.contourf(x1,x2,y2,[-10,1])\n",
    "plt.ylabel(\"$x_2$\")\n",
    "plt.xlabel(\"$x_1$\")\n",
    "plt.gca().set_aspect('equal', adjustable='box')"
   ]
  },
  {
   "cell_type": "code",
   "execution_count": null,
   "metadata": {
    "hidden": true
   },
   "outputs": [],
   "source": []
  }
 ],
 "metadata": {
  "kernelspec": {
   "display_name": "Python 3",
   "language": "python",
   "name": "python3"
  },
  "language_info": {
   "codemirror_mode": {
    "name": "ipython",
    "version": 3
   },
   "file_extension": ".py",
   "mimetype": "text/x-python",
   "name": "python",
   "nbconvert_exporter": "python",
   "pygments_lexer": "ipython3",
   "version": "3.7.6"
  },
  "toc": {
   "base_numbering": 1,
   "nav_menu": {},
   "number_sections": true,
   "sideBar": true,
   "skip_h1_title": false,
   "title_cell": "Table of Contents",
   "title_sidebar": "Contents",
   "toc_cell": false,
   "toc_position": {},
   "toc_section_display": true,
   "toc_window_display": false
  }
 },
 "nbformat": 4,
 "nbformat_minor": 4
}
