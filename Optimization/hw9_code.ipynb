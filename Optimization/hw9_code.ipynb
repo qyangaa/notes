{
 "cells": [
  {
   "cell_type": "code",
   "execution_count": 51,
   "metadata": {},
   "outputs": [],
   "source": [
    "import numpy as np\n",
    "import matplotlib.pyplot as plt\n",
    "import scipy.linalg as la"
   ]
  },
  {
   "cell_type": "code",
   "execution_count": 46,
   "metadata": {},
   "outputs": [
    {
     "data": {
      "image/png": "[encoded data removed]",
      "text/plain": [
       "<Figure size 432x288 with 1 Axes>"
      ]
     },
     "metadata": {
      "needs_background": "light"
     },
     "output_type": "display_data"
    }
   ],
   "source": [
    "numPoints = 100\n",
    "x1Line = np.linspace(-3.5,3.5,numPoints)\n",
    "x2Line = np.linspace(-3.5,3.5,numPoints)\n",
    "x1, x2 = np.meshgrid(x1Line,x2Line)\n",
    "xspace = np.dstack([x1,x2])\n",
    "def quadratic(Q,x):\n",
    "    return np.dot(x,np.matmul(Q,x))\n",
    "\n",
    "Q = np.array([[1/9,0],[0,1]])\n",
    "y1 = np.array([[quadratic(Q,x) for x in row] for row in xspace])\n",
    "ax1 = plt.contourf(x1,x2,y1,[-10,1])\n",
    "plt.ylabel(\"$x_2$\")\n",
    "plt.xlabel(\"$x_1$\")\n",
    "plt.gca().set_aspect('equal', adjustable='box')"
   ]
  },
  {
   "cell_type": "code",
   "execution_count": 48,
   "metadata": {},
   "outputs": [
    {
     "data": {
      "image/png": "[encoded data removed]",
      "text/plain": [
       "<Figure size 432x288 with 1 Axes>"
      ]
     },
     "metadata": {
      "needs_background": "light"
     },
     "output_type": "display_data"
    }
   ],
   "source": [
    "def affineTransform(A,x):\n",
    "    return np.matmul(A,x)\n",
    "\n",
    "A = np.array([[3,0],[0,1]])\n",
    "Q = np.array([[1/9,0],[0,1]])\n",
    "y2 = np.array([[quadratic(Q,affineTransform(A,x)) for x in row] for row in xspace])\n",
    "ax2 = plt.contourf(x1,x2,y2,[-10,1])\n",
    "plt.ylabel(\"$x_2$\")\n",
    "plt.xlabel(\"$x_1$\")\n",
    "plt.gca().set_aspect('equal', adjustable='box')"
   ]
  },
  {
   "cell_type": "code",
   "execution_count": 49,
   "metadata": {},
   "outputs": [
    {
     "data": {
      "image/png": "[encoded data removed]",
      "text/plain": [
       "<Figure size 432x288 with 1 Axes>"
      ]
     },
     "metadata": {
      "needs_background": "light"
     },
     "output_type": "display_data"
    }
   ],
   "source": [
    "\n",
    "Q = np.array([[1,0.9],[0.9,1]])\n",
    "y3 = np.array([[quadratic(Q,x) for x in row] for row in xspace])\n",
    "ax3 = plt.contourf(x1,x2,y3,[-10,1])\n",
    "plt.ylabel(\"$x_2$\")\n",
    "plt.xlabel(\"$x_1$\")\n",
    "plt.gca().set_aspect('equal', adjustable='box')"
   ]
  },
  {
   "cell_type": "code",
   "execution_count": 72,
   "metadata": {},
   "outputs": [
    {
     "name": "stdout",
     "output_type": "stream",
     "text": [
      "[[1.  0.9]\n",
      " [0.9 1. ]]\n",
      "eigenvalues:  [1.9+0.j 0.1+0.j]\n",
      "eigenvectors: \n",
      " [[ 0.70710678 -0.70710678]\n",
      " [ 0.70710678  0.70710678]]\n"
     ]
    }
   ],
   "source": [
    "print(Q)\n",
    "results = la.eig(Q)\n",
    "print(\"eigenvalues: \",results[0])\n",
    "print(\"eigenvectors: \\n\",results[1])\n"
   ]
  },
  {
   "cell_type": "code",
   "execution_count": null,
   "metadata": {},
   "outputs": [],
   "source": []
  },
  {
   "cell_type": "code",
   "execution_count": 88,
   "metadata": {},
   "outputs": [
    {
     "data": {
      "image/png": "[encoded data removed]",
      "text/plain": [
       "<Figure size 432x288 with 1 Axes>"
      ]
     },
     "metadata": {
      "needs_background": "light"
     },
     "output_type": "display_data"
    }
   ],
   "source": [
    "B = la.sqrtm(Q)\n",
    "A = np.matmul(np.linalg.inv(B),np.array([[1,0],[0,1]]))\n",
    "\n",
    "\n",
    "y4 = np.array([[quadratic(Q,affineTransform(A,x)) for x in row] for row in xspace])\n",
    "ax4 = plt.contourf(x1,x2,y4,[-10,1])\n",
    "plt.ylabel(\"$x_2$\")\n",
    "plt.xlabel(\"$x_1$\")\n",
    "plt.gca().set_aspect('equal', adjustable='box')"
   ]
  },
  {
   "cell_type": "code",
   "execution_count": 131,
   "metadata": {},
   "outputs": [],
   "source": [
    "# Lasso\n",
    "n = 50\n",
    "d = 200\n",
    "nonZero = d-5\n",
    "np.random.seed(0)\n",
    "\n",
    "# Generate xStar\n",
    "xStar = (np.random.rand(d)-0.5)*20\n",
    "toZero = np.random.choice(np.arange(d),nonZero,replace=False)\n",
    "xStar[toZero]=0\n",
    "\n",
    "# Generate A\n",
    "A = np.random.normal(0,1,(n,d))\n",
    "\n",
    "# Generate e\n",
    "e = np.random.normal(0,.1,n)\n",
    "\n",
    "# Calculate y\n",
    "y = np.matmul(A,xStar)+e\n",
    "\n",
    "# Set lambda\n",
    "Lambda = 1\n",
    "\n",
    "def residual(x):\n",
    "    return np.matmul(A,x)-y\n",
    "\n",
    "def f(x):\n",
    "    r = residual(x)\n",
    "    return 0.5*np.matmul(r.T, r)+Lambda*np.linalg.norm(x,1)\n",
    "\n",
    "def convergence(x):\n",
    "    return np.linalg.norm(x-xStar,2)"
   ]
  },
  {
   "cell_type": "code",
   "execution_count": 137,
   "metadata": {},
   "outputs": [],
   "source": [
    "# Subgradient\n",
    "epochs = 2000\n",
    "\n",
    "def subgrad(x):\n",
    "    r = residual(x)\n",
    "    g = np.matmul(A.T,r)+Lambda*np.sign(x)\n",
    "    return g\n",
    "\n",
    "\n",
    "#Generate X:\n",
    "np.random.seed(5)\n",
    "x = (np.random.rand(d)-0.5)*20\n",
    "xbest = x\n",
    "fbest = f(xbest)\n",
    "convergenceListSubgrad=[]\n",
    "for i in range(epochs):\n",
    "    eta = 1/(i+1)\n",
    "    convergenceListSubgrad.append(convergence(x))\n",
    "    xtemp = x - eta*subgrad(x)\n",
    "    ftemp = f(xtemp)\n",
    "    if ftemp<fbest:\n",
    "        x = xtemp\n",
    "        xbest = x\n",
    "        fbest = ftemp\n",
    "    "
   ]
  },
  {
   "cell_type": "code",
   "execution_count": 139,
   "metadata": {},
   "outputs": [],
   "source": [
    "# proximal\n",
    "epochs = 2000\n",
    "eta = 1/(np.linalg.norm(np.matmul(A.T,A),2)+1)\n",
    "def prox(x):\n",
    "    def thresholdCoord(bi):\n",
    "        if bi>eta*Lambda:\n",
    "            return bi-eta*Lambda\n",
    "        elif bi<eta*Lambda:\n",
    "            return bi+eta*Lambda\n",
    "        else:\n",
    "            return 0\n",
    "    def threshold(b):\n",
    "        return np.array([thresholdCoord(bi) for bi in b])\n",
    "    return threshold(x-eta*np.matmul(A.T,residual(x)))\n",
    "\n",
    "\n",
    "#Generate X:\n",
    "np.random.seed(5)\n",
    "x = (np.random.rand(d)-0.5)*20\n",
    "\n",
    "convergenceListProx=[]\n",
    "for i in range(epochs):\n",
    "    convergenceListProx.append(convergence(x))\n",
    "    x = prox(x)"
   ]
  },
  {
   "cell_type": "code",
   "execution_count": 143,
   "metadata": {},
   "outputs": [
    {
     "data": {
      "image/png": "[encoded data removed]",
      "text/plain": [
       "<Figure size 432x288 with 1 Axes>"
      ]
     },
     "metadata": {
      "needs_background": "light"
     },
     "output_type": "display_data"
    }
   ],
   "source": [
    "t = np.arange(epochs)\n",
    "plt.plot(t,convergenceListSubgrad, label=\"Subgradient Descent\")\n",
    "plt.plot(t,convergenceListProx, label=\"Proximal Gradient Descent\")\n",
    "plt.xlabel('Steps t')\n",
    "plt.ylabel(r'$\\|x_t-x^*\\|_2$')\n",
    "plt.legend()\n",
    "plt.show()"
   ]
  },
  {
   "cell_type": "code",
   "execution_count": null,
   "metadata": {},
   "outputs": [],
   "source": []
  }
 ],
 "metadata": {
  "kernelspec": {
   "display_name": "Python 3",
   "language": "python",
   "name": "python3"
  },
  "language_info": {
   "codemirror_mode": {
    "name": "ipython",
    "version": 3
   },
   "file_extension": ".py",
   "mimetype": "text/x-python",
   "name": "python",
   "nbconvert_exporter": "python",
   "pygments_lexer": "ipython3",
   "version": "3.7.6"
  },
  "toc": {
   "base_numbering": 1,
   "nav_menu": {},
   "number_sections": true,
   "sideBar": true,
   "skip_h1_title": false,
   "title_cell": "Table of Contents",
   "title_sidebar": "Contents",
   "toc_cell": false,
   "toc_position": {},
   "toc_section_display": true,
   "toc_window_display": false
  }
 },
 "nbformat": 4,
 "nbformat_minor": 4
}
