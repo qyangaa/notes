{
 "cells": [
  {
   "cell_type": "code",
   "execution_count": 2,
   "metadata": {},
   "outputs": [],
   "source": [
    "import numpy as np\n",
    "import matplotlib.pyplot as plt\n",
    "import scipy.linalg as la"
   ]
  },
  {
   "cell_type": "code",
   "execution_count": 4,
   "metadata": {},
   "outputs": [
    {
     "name": "stdout",
     "output_type": "stream",
     "text": [
      "[[1 1]\n",
      " [0 2]]\n",
      "eigenvalues:  [1.+0.j 2.+0.j]\n",
      "eigenvectors: \n",
      " [[1.         0.70710678]\n",
      " [0.         0.70710678]]\n"
     ]
    }
   ],
   "source": [
    "A = np.array([[1,1],[0,2]])\n",
    "print(A)\n",
    "results = la.eig(A)\n",
    "print(\"eigenvalues: \",results[0])\n",
    "print(\"eigenvectors: \\n\",results[1])\n"
   ]
  },
  {
   "cell_type": "code",
   "execution_count": 35,
   "metadata": {},
   "outputs": [
    {
     "name": "stdout",
     "output_type": "stream",
     "text": [
      "[[ 4 11 11 12]\n",
      " [11 13 14 12]\n",
      " [11 14 16 16]\n",
      " [12 12 16 18]]\n",
      "lambda_0: 51.949\n",
      "v_0 [-0.379 -0.480 -0.554 -0.565]\n",
      "lambda_1: -4.350\n",
      "v_1 [-0.892 0.362 0.021 0.269]\n",
      "lambda_2: 0.024\n",
      "v_2 [0.238 0.409 -0.827 0.304]\n",
      "lambda_3: 3.378\n",
      "v_3 [-0.064 -0.686 -0.094 0.719]\n",
      "<v_0, v_1> = -0.000\n",
      "<v_0, v_2> = -0.000\n",
      "<v_0, v_3> = -0.000\n",
      "<v_1, v_2> = 0.000\n",
      "<v_1, v_3> = -0.000\n",
      "<v_2, v_3> = -0.000\n"
     ]
    },
    {
     "name": "stderr",
     "output_type": "stream",
     "text": [
      "/home/arky/anaconda3/lib/python3.7/site-packages/ipykernel_launcher.py:8: ComplexWarning: Casting complex values to real discards the imaginary part\n",
      "  \n"
     ]
    }
   ],
   "source": [
    "np.set_printoptions(formatter={'float': lambda x: \"{0:0.3f}\".format(x)})\n",
    "    \n",
    "A = np.array([[4,11,11,12],[11,13,14,12],[11,14,16,16],[12,12,16,18]])\n",
    "print(A)\n",
    "results = la.eig(A)\n",
    "eigenvectors = np.transpose(results[1])\n",
    "for i,eigenvalue in enumerate(results[0]):\n",
    "    print(\"lambda_%d: %.3f\"%(i,eigenvalue))\n",
    "    print(\"v_%d\"%(i),eigenvectors[i])\n",
    "\n",
    "for i, eigenvector1 in enumerate(eigenvectors):\n",
    "    for j, eigenvector2 in enumerate(eigenvectors[i+1:]):\n",
    "        print(\"<v_%d, v_%d> = %.3f\"%(i, i+j+1,np.inner(eigenvector1,eigenvector2)))"
   ]
  },
  {
   "cell_type": "code",
   "execution_count": 36,
   "metadata": {},
   "outputs": [
    {
     "name": "stdout",
     "output_type": "stream",
     "text": [
      "[[1 2 3 4]\n",
      " [2 3 4 1]\n",
      " [3 4 1 2]\n",
      " [4 1 2 3]]\n",
      "lambda_0: 10.000\n",
      "v_0 [0.500 0.500 0.500 0.500]\n",
      "lambda_1: 2.828\n",
      "v_1 [0.271 -0.653 -0.271 0.653]\n",
      "lambda_2: -2.828\n",
      "v_2 [-0.653 -0.271 0.653 0.271]\n",
      "lambda_3: -2.000\n",
      "v_3 [-0.500 0.500 -0.500 0.500]\n",
      "<v_0, v_1> = -0.000\n",
      "<v_0, v_2> = -0.000\n",
      "<v_0, v_3> = -0.000\n",
      "<v_1, v_2> = -0.000\n",
      "<v_1, v_3> = -0.000\n",
      "<v_2, v_3> = 0.000\n"
     ]
    },
    {
     "name": "stderr",
     "output_type": "stream",
     "text": [
      "/home/arky/anaconda3/lib/python3.7/site-packages/ipykernel_launcher.py:8: ComplexWarning: Casting complex values to real discards the imaginary part\n",
      "  \n"
     ]
    }
   ],
   "source": [
    "np.set_printoptions(formatter={'float': lambda x: \"{0:0.3f}\".format(x)})\n",
    "    \n",
    "A = np.array([[1,2,3,4],[2,3,4,1],[3,4,1,2],[4,1,2,3]])\n",
    "print(A)\n",
    "results = la.eig(A)\n",
    "eigenvectors = np.transpose(results[1])\n",
    "for i,eigenvalue in enumerate(results[0]):\n",
    "    print(\"lambda_%d: %.3f\"%(i,eigenvalue))\n",
    "    print(\"v_%d\"%(i),eigenvectors[i])\n",
    "\n",
    "for i, eigenvector1 in enumerate(eigenvectors):\n",
    "    for j, eigenvector2 in enumerate(eigenvectors[i+1:]):\n",
    "        print(\"<v_%d, v_%d> = %.3f\"%(i, i+j+1,np.inner(eigenvector1,eigenvector2)))"
   ]
  },
  {
   "cell_type": "code",
   "execution_count": 37,
   "metadata": {},
   "outputs": [
    {
     "name": "stdout",
     "output_type": "stream",
     "text": [
      "[[13 12 -2]\n",
      " [12 17  6]\n",
      " [-2  6 12]]\n",
      "lambda_0: 27.898\n",
      "v_0 [-0.594 -0.774 -0.217]\n",
      "lambda_1: 0.259\n",
      "v_1 [-0.654 0.623 -0.430]\n",
      "lambda_2: 13.843\n",
      "v_2 [-0.468 0.113 0.876]\n",
      "<v_0, v_1> = 0.000\n",
      "<v_0, v_2> = 0.000\n",
      "<v_1, v_2> = -0.000\n"
     ]
    },
    {
     "name": "stderr",
     "output_type": "stream",
     "text": [
      "/home/arky/anaconda3/lib/python3.7/site-packages/ipykernel_launcher.py:8: ComplexWarning: Casting complex values to real discards the imaginary part\n",
      "  \n"
     ]
    }
   ],
   "source": [
    "np.set_printoptions(formatter={'float': lambda x: \"{0:0.3f}\".format(x)})\n",
    "    \n",
    "A = np.array([[13,12,-2],[12,17,6],[-2,6,12]])\n",
    "print(A)\n",
    "results = la.eig(A)\n",
    "eigenvectors = np.transpose(results[1])\n",
    "for i,eigenvalue in enumerate(results[0]):\n",
    "    print(\"lambda_%d: %.3f\"%(i,eigenvalue))\n",
    "    print(\"v_%d\"%(i),eigenvectors[i])\n",
    "\n",
    "for i, eigenvector1 in enumerate(eigenvectors):\n",
    "    for j, eigenvector2 in enumerate(eigenvectors[i+1:]):\n",
    "        print(\"<v_%d, v_%d> = %.3f\"%(i, i+j+1,np.inner(eigenvector1,eigenvector2)))"
   ]
  },
  {
   "cell_type": "code",
   "execution_count": 102,
   "metadata": {},
   "outputs": [
    {
     "data": {
      "text/plain": [
       "Text(0.5, 0, '$x_1$')"
      ]
     },
     "execution_count": 102,
     "metadata": {},
     "output_type": "execute_result"
    },
    {
     "data": {
      "image/png": "[encoded data removed]",
      "text/plain": [
       "<Figure size 432x288 with 1 Axes>"
      ]
     },
     "metadata": {
      "needs_background": "light"
     },
     "output_type": "display_data"
    }
   ],
   "source": [
    "numPoints = 100\n",
    "x1Line = np.linspace(-0.5,6,numPoints)\n",
    "x2Line = np.linspace(-1.5,6,numPoints)\n",
    "x1, x2 = np.meshgrid(x1Line,x2Line)\n",
    "y1 = x1**2-2*x1+x2**2\n",
    "y2 = 0.5*x1**2-2*x1-x2+2\n",
    "y3 = x1-x2\n",
    "ax1 = plt.contour(x1,x2,y1,[0])\n",
    "ax2 = plt.contour(x1,x2,y2,[0])\n",
    "ax3 = plt.contour(x1,x2,y3,[0])\n",
    "y4 = np.maximum.reduce([y1,y2,y3])\n",
    "plt.contourf(x1,x2,y4,[-10,0])\n",
    "plt.ylabel(\"$x_2$\")\n",
    "plt.xlabel(\"$x_1$\")"
   ]
  },
  {
   "cell_type": "code",
   "execution_count": 86,
   "metadata": {},
   "outputs": [
    {
     "data": {
      "text/plain": [
       "<matplotlib.contour.QuadContourSet at 0x7fe6e27d4d90>"
      ]
     },
     "execution_count": 86,
     "metadata": {},
     "output_type": "execute_result"
    },
    {
     "data": {
      "image/png": "[encoded data removed]",
      "text/plain": [
       "<Figure size 432x288 with 1 Axes>"
      ]
     },
     "metadata": {
      "needs_background": "light"
     },
     "output_type": "display_data"
    }
   ],
   "source": [
    "plt.contour(x1,x2,y4,[0])"
   ]
  },
  {
   "cell_type": "code",
   "execution_count": 106,
   "metadata": {},
   "outputs": [
    {
     "name": "stdout",
     "output_type": "stream",
     "text": [
      "y1 =  0\n",
      "y2 =  -0.5\n",
      "y3 =  0\n"
     ]
    }
   ],
   "source": [
    "x1, x2 = 1, 1\n",
    "\n",
    "y0 = x1**2-6*x1+x2**2-4*x2\n",
    "y1 = x1**2-2*x1+x2**2\n",
    "y2 = 0.5*x1**2-2*x1-x2+2\n",
    "y3 = x1-x2\n",
    "\n",
    "print(\"y1 = \", y1)\n",
    "print(\"y2 = \", y2)\n",
    "print(\"y3 = \", y3)"
   ]
  },
  {
   "cell_type": "code",
   "execution_count": 108,
   "metadata": {},
   "outputs": [
    {
     "name": "stdout",
     "output_type": "stream",
     "text": [
      "dy0/dx =  [-4 -2]\n",
      "dy1/dx =  [0 2]\n",
      "dy2/dx =  [-1 -1]\n",
      "dy3/dx =  [ 1 -1]\n",
      "dy0/dx+3*dy1/dx+4*dy3/dx =  [0 0]\n"
     ]
    }
   ],
   "source": [
    "x=np.array([1,1])\n",
    "dy0 = np.array([2*x[0]-6,2*x[1]-4])\n",
    "dy1 = np.array([2*x[0]-2,2*x[1]])\n",
    "dy2 = np.array([x[0]-2,-1])\n",
    "dy3 = np.array([1,-1])\n",
    "\n",
    "print(\"dy0/dx = \", dy0)\n",
    "print(\"dy1/dx = \", dy1)\n",
    "print(\"dy2/dx = \", dy2)\n",
    "print(\"dy3/dx = \", dy3)\n",
    "print(\"dy0/dx+3*dy1/dx+4*dy3/dx = \", dy0+3*dy1+4*dy3)"
   ]
  },
  {
   "cell_type": "code",
   "execution_count": 109,
   "metadata": {},
   "outputs": [
    {
     "name": "stdout",
     "output_type": "stream",
     "text": [
      "dy0/dx =  [-4.730 -2.138]\n",
      "dy1/dx =  [-0.730 1.862]\n",
      "dy2/dx =  [-1.365 -1.000]\n",
      "dy3/dx =  [ 1 -1]\n",
      "dy0/dx+3*dy1/dx+4*dy3/dx =  [-2.920 -0.552]\n"
     ]
    }
   ],
   "source": [
    "x=np.array([0.635,0.931])\n",
    "dy0 = np.array([2*x[0]-6,2*x[1]-4])\n",
    "dy1 = np.array([2*x[0]-2,2*x[1]])\n",
    "dy2 = np.array([x[0]-2,-1])\n",
    "dy3 = np.array([1,-1])\n",
    "\n",
    "print(\"dy0/dx = \", dy0)\n",
    "print(\"dy1/dx = \", dy1)\n",
    "print(\"dy2/dx = \", dy2)\n",
    "print(\"dy3/dx = \", dy3)\n",
    "print(\"dy0/dx+3*dy1/dx+4*dy3/dx = \", dy0+3*dy1+4*dy3)"
   ]
  },
  {
   "cell_type": "code",
   "execution_count": 110,
   "metadata": {},
   "outputs": [
    {
     "name": "stdout",
     "output_type": "stream",
     "text": [
      "dy0/dx =  [4.472 6.472]\n",
      "dy1/dx =  [8.472 10.472]\n",
      "dy2/dx =  [3.236 -1.000]\n",
      "dy3/dx =  [ 1 -1]\n"
     ]
    }
   ],
   "source": [
    "x=np.array([3+5**0.5,3+5**0.5])\n",
    "dy0 = np.array([2*x[0]-6,2*x[1]-4])\n",
    "dy1 = np.array([2*x[0]-2,2*x[1]])\n",
    "dy2 = np.array([x[0]-2,-1])\n",
    "dy3 = np.array([1,-1])\n",
    "\n",
    "print(\"dy0/dx = \", dy0)\n",
    "print(\"dy1/dx = \", dy1)\n",
    "print(\"dy2/dx = \", dy2)\n",
    "print(\"dy3/dx = \", dy3)"
   ]
  },
  {
   "cell_type": "code",
   "execution_count": 112,
   "metadata": {},
   "outputs": [
    {
     "name": "stdout",
     "output_type": "stream",
     "text": [
      "y1 =  7\n",
      "y2 =  -1.5\n",
      "y3 =  1\n"
     ]
    }
   ],
   "source": [
    "x1, x2 = 3,2\n",
    "\n",
    "y0 = x1**2-6*x1+x2**2-4*x2\n",
    "y1 = x1**2-2*x1+x2**2\n",
    "y2 = 0.5*x1**2-2*x1-x2+2\n",
    "y3 = x1-x2\n",
    "\n",
    "print(\"y1 = \", y1)\n",
    "print(\"y2 = \", y2)\n",
    "print(\"y3 = \", y3)"
   ]
  },
  {
   "cell_type": "code",
   "execution_count": 120,
   "metadata": {},
   "outputs": [
    {
     "data": {
      "text/plain": [
       "array([-1.000, 0.000, 2.000])"
      ]
     },
     "execution_count": 120,
     "metadata": {},
     "output_type": "execute_result"
    }
   ],
   "source": [
    "Q = np.array([[13,12,-2],[12,17,6],[-2,6,12]])\n",
    "q = np.array([-22,-14.5,13])\n",
    "c0 = -1\n",
    "\n",
    "x = np.array([1,0.5,-1])\n",
    "\n",
    "dy0 = np.matmul(Q,x)+q\n",
    "dy0"
   ]
  },
  {
   "cell_type": "code",
   "execution_count": 117,
   "metadata": {},
   "outputs": [
    {
     "data": {
      "text/plain": [
       "array([[13.000, 3.000, -2.000],\n",
       "       [12.000, 4.250, 6.000],\n",
       "       [-2.000, 1.500, 12.000]])"
      ]
     },
     "execution_count": 117,
     "metadata": {},
     "output_type": "execute_result"
    }
   ],
   "source": []
  },
  {
   "cell_type": "code",
   "execution_count": 43,
   "metadata": {},
   "outputs": [
    {
     "name": "stdout",
     "output_type": "stream",
     "text": [
      "[-1.  0.  2.]\n",
      "-1.00 + Lambda1(+) = 0\n",
      "Lambda1(-) = 0\n",
      "Lambda1(+) = 1.00\n",
      "Lambda2(-) = 0\n",
      "Lambda2(+) = 0\n",
      "2.00 - Lambda3(-) = 0\n",
      "Lambda3(-) = 2.00\n",
      "Lambda3(+) = 0\n"
     ]
    },
    {
     "data": {
      "text/plain": [
       "array([0., 1., 0., 0., 2., 0.])"
      ]
     },
     "execution_count": 43,
     "metadata": {},
     "output_type": "execute_result"
    }
   ],
   "source": [
    "\n",
    "\n",
    "def calculateLambda(x):\n",
    "    Q = np.array([[13,12,-2],[12,17,6],[-2,6,12]])\n",
    "    q = np.array([-22,-14.5,13])\n",
    "    c0 = -1\n",
    "    dy0 = np.matmul(Q,x)+q\n",
    "    print(dy0)\n",
    "    #Lambda[0] for \"-\", [1] for \"+\"\n",
    "    Lambda = np.ones(6)\n",
    "    for i,val in enumerate(x):\n",
    "        if val ==1:\n",
    "            Lambda[2*i] = 0\n",
    "            Lambda[2*i+1] = 0-dy0[i]\n",
    "            print(\"%.2f + Lambda%d(+) = 0\"%(dy0[i],i+1))\n",
    "            print(\"Lambda%d(-) = 0\"%(i+1))\n",
    "            print(\"Lambda%d(+) = %.2f\"%(i+1,Lambda[2*i+1]))\n",
    "        elif val==-1:\n",
    "            Lambda[2*i+1]=0\n",
    "            Lambda[2*i] = dy0[i]\n",
    "            print(\"%.2f - Lambda%d(-) = 0\"%(dy0[i],i+1))\n",
    "            print(\"Lambda%d(-) = %.2f\"%(i+1,Lambda[2*i]))\n",
    "            print(\"Lambda%d(+) = 0\"%(i+1))\n",
    "\n",
    "        else:\n",
    "            Lambda[2*i] = 0\n",
    "            Lambda[2*i+1]=0\n",
    "            print(\"Lambda%d(-) = 0\"%(i+1))\n",
    "            print(\"Lambda%d(+) = 0\"%(i+1))\n",
    "    return Lambda\n",
    "\n",
    "x = [1,0.5,-1]\n",
    "calculateLambda(x)\n"
   ]
  },
  {
   "cell_type": "code",
   "execution_count": 27,
   "metadata": {},
   "outputs": [
    {
     "name": "stdout",
     "output_type": "stream",
     "text": [
      "0.0\n",
      "0.1111111111111111\n",
      "0.2222222222222222\n",
      "0.3333333333333333\n",
      "0.4444444444444444\n",
      "0.5555555555555556\n",
      "0.6666666666666666\n",
      "0.7777777777777777\n",
      "0.8888888888888888\n",
      "1.0\n"
     ]
    }
   ],
   "source": [
    "for j in np.linspace(-1, 1, 10):\n",
    "    x = [1,1,j]"
   ]
  },
  {
   "cell_type": "code",
   "execution_count": 1,
   "metadata": {},
   "outputs": [
    {
     "name": "stdout",
     "output_type": "stream",
     "text": [
      "1 -7 3 -1\n"
     ]
    }
   ],
   "source": [
    "x1=0\n",
    "x2=0\n",
    "\n",
    "y1 = 2*x1-3+4\n",
    "y2 = 2*x1-3-4\n",
    "y3 = 2*x2+1+2\n",
    "y4 = 2*x2+1-2\n",
    "print(y1,y2,y3,y4)"
   ]
  },
  {
   "cell_type": "code",
   "execution_count": 2,
   "metadata": {},
   "outputs": [
    {
     "name": "stdout",
     "output_type": "stream",
     "text": [
      "-1 -5 5 -3\n"
     ]
    }
   ],
   "source": [
    "\n",
    "y1 = 2*x1-3+2\n",
    "y2 = 2*x1-3-2\n",
    "y3 = 2*x2+1+4\n",
    "y4 = 2*x2+1-4\n",
    "print(y1,y2,y3,y4)"
   ]
  },
  {
   "cell_type": "code",
   "execution_count": 5,
   "metadata": {},
   "outputs": [
    {
     "name": "stdout",
     "output_type": "stream",
     "text": [
      "[[2 1]\n",
      " [1 2]]\n",
      "eigenvalues:  [3.+0.j 1.+0.j]\n",
      "eigenvectors: \n",
      " [[ 0.70710678 -0.70710678]\n",
      " [ 0.70710678  0.70710678]]\n"
     ]
    }
   ],
   "source": [
    "import numpy as np\n",
    "import scipy.linalg as la\n",
    "A = np.array([[2,1],[1,2]])\n",
    "print(A)\n",
    "results = la.eig(A)\n",
    "print(\"eigenvalues: \",results[0])\n",
    "print(\"eigenvectors: \\n\",results[1])"
   ]
  },
  {
   "cell_type": "code",
   "execution_count": 6,
   "metadata": {},
   "outputs": [
    {
     "name": "stdout",
     "output_type": "stream",
     "text": [
      "0.0\n",
      "0.0\n"
     ]
    }
   ],
   "source": [
    "x1=3/2\n",
    "x2=1/2\n",
    "l1 = -3\n",
    "l2 = 6\n",
    "print(2*x1-2+l1+1/3*l2)\n",
    "print(2*x2-4+l1+l2)"
   ]
  },
  {
   "cell_type": "code",
   "execution_count": null,
   "metadata": {},
   "outputs": [],
   "source": []
  }
 ],
 "metadata": {
  "kernelspec": {
   "display_name": "Python 3",
   "language": "python",
   "name": "python3"
  },
  "language_info": {
   "codemirror_mode": {
    "name": "ipython",
    "version": 3
   },
   "file_extension": ".py",
   "mimetype": "text/x-python",
   "name": "python",
   "nbconvert_exporter": "python",
   "pygments_lexer": "ipython3",
   "version": "3.7.6"
  },
  "toc": {
   "base_numbering": 1,
   "nav_menu": {},
   "number_sections": true,
   "sideBar": true,
   "skip_h1_title": false,
   "title_cell": "Table of Contents",
   "title_sidebar": "Contents",
   "toc_cell": false,
   "toc_position": {},
   "toc_section_display": true,
   "toc_window_display": false
  }
 },
 "nbformat": 4,
 "nbformat_minor": 4
}
